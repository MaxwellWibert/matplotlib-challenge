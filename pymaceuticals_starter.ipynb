{
 "cells": [
  {
   "cell_type": "code",
   "execution_count": 1,
   "metadata": {},
   "outputs": [],
   "source": [
    "# Dependencies and Setup\n",
    "%matplotlib widget\n",
    "import matplotlib.pyplot as plt\n",
    "import pandas as pd\n",
    "import numpy as np\n",
    "\n",
    "# Hide warning messages in notebook\n",
    "import warnings\n",
    "warnings.filterwarnings('ignore')\n",
    "\n",
    "# File to Load (Remember to Change These)\n",
    "mouse_drug_data_to_load = \"data/mouse_drug_data.csv\"\n",
    "clinical_trial_data_to_load = \"data/clinicaltrial_data.csv\"\n",
    "\n",
    "# Read the Mouse and Drug Data and the Clinical Trial Data\n",
    "mouse_df = pd.read_csv(\"./data/mouse_drug_data.csv\")\n",
    "clinical_df = pd.read_csv(\"./data/clinicaltrial_data.csv\")"
   ]
  },
  {
   "cell_type": "code",
   "execution_count": 2,
   "metadata": {},
   "outputs": [
    {
     "output_type": "execute_result",
     "data": {
      "text/plain": "  Mouse ID      Drug  Timepoint  Tumor Volume (mm3)  Metastatic Sites\n0     f234  Stelasyn          0           45.000000                 0\n1     f234  Stelasyn          5           47.313491                 0\n2     f234  Stelasyn         10           47.904324                 0\n3     f234  Stelasyn         15           48.735197                 1\n4     f234  Stelasyn         20           51.112713                 2",
      "text/html": "<div>\n<style scoped>\n    .dataframe tbody tr th:only-of-type {\n        vertical-align: middle;\n    }\n\n    .dataframe tbody tr th {\n        vertical-align: top;\n    }\n\n    .dataframe thead th {\n        text-align: right;\n    }\n</style>\n<table border=\"1\" class=\"dataframe\">\n  <thead>\n    <tr style=\"text-align: right;\">\n      <th></th>\n      <th>Mouse ID</th>\n      <th>Drug</th>\n      <th>Timepoint</th>\n      <th>Tumor Volume (mm3)</th>\n      <th>Metastatic Sites</th>\n    </tr>\n  </thead>\n  <tbody>\n    <tr>\n      <td>0</td>\n      <td>f234</td>\n      <td>Stelasyn</td>\n      <td>0</td>\n      <td>45.000000</td>\n      <td>0</td>\n    </tr>\n    <tr>\n      <td>1</td>\n      <td>f234</td>\n      <td>Stelasyn</td>\n      <td>5</td>\n      <td>47.313491</td>\n      <td>0</td>\n    </tr>\n    <tr>\n      <td>2</td>\n      <td>f234</td>\n      <td>Stelasyn</td>\n      <td>10</td>\n      <td>47.904324</td>\n      <td>0</td>\n    </tr>\n    <tr>\n      <td>3</td>\n      <td>f234</td>\n      <td>Stelasyn</td>\n      <td>15</td>\n      <td>48.735197</td>\n      <td>1</td>\n    </tr>\n    <tr>\n      <td>4</td>\n      <td>f234</td>\n      <td>Stelasyn</td>\n      <td>20</td>\n      <td>51.112713</td>\n      <td>2</td>\n    </tr>\n  </tbody>\n</table>\n</div>"
     },
     "metadata": {},
     "execution_count": 2
    }
   ],
   "source": [
    "# Combine the data into a single dataset\n",
    "df = pd.merge(mouse_df, clinical_df, on = \"Mouse ID\", how = 'inner')\n",
    "# Display the data table for preview\n",
    "df.head()"
   ]
  },
  {
   "cell_type": "markdown",
   "metadata": {},
   "source": [
    "## Tumor Response to Treatment"
   ]
  },
  {
   "cell_type": "code",
   "execution_count": 10,
   "metadata": {},
   "outputs": [
    {
     "output_type": "execute_result",
     "data": {
      "text/plain": "        Drug  Timepoint  Tumor Volume (mm3)\n0  Capomulin          0           45.000000\n1  Capomulin          5           44.266086\n2  Capomulin         10           43.084291\n3  Capomulin         15           42.064317\n4  Capomulin         20           40.716325",
      "text/html": "<div>\n<style scoped>\n    .dataframe tbody tr th:only-of-type {\n        vertical-align: middle;\n    }\n\n    .dataframe tbody tr th {\n        vertical-align: top;\n    }\n\n    .dataframe thead th {\n        text-align: right;\n    }\n</style>\n<table border=\"1\" class=\"dataframe\">\n  <thead>\n    <tr style=\"text-align: right;\">\n      <th></th>\n      <th>Drug</th>\n      <th>Timepoint</th>\n      <th>Tumor Volume (mm3)</th>\n    </tr>\n  </thead>\n  <tbody>\n    <tr>\n      <td>0</td>\n      <td>Capomulin</td>\n      <td>0</td>\n      <td>45.000000</td>\n    </tr>\n    <tr>\n      <td>1</td>\n      <td>Capomulin</td>\n      <td>5</td>\n      <td>44.266086</td>\n    </tr>\n    <tr>\n      <td>2</td>\n      <td>Capomulin</td>\n      <td>10</td>\n      <td>43.084291</td>\n    </tr>\n    <tr>\n      <td>3</td>\n      <td>Capomulin</td>\n      <td>15</td>\n      <td>42.064317</td>\n    </tr>\n    <tr>\n      <td>4</td>\n      <td>Capomulin</td>\n      <td>20</td>\n      <td>40.716325</td>\n    </tr>\n  </tbody>\n</table>\n</div>"
     },
     "metadata": {},
     "execution_count": 10
    }
   ],
   "source": [
    "# Store the Mean Tumor Volume Data Grouped by Drug and Timepoint \n",
    "meanvol = df.groupby(by = [\"Drug\", \"Timepoint\"])[\"Tumor Volume (mm3)\"].mean()\n",
    "\n",
    "# Convert to DataFrame\n",
    "meanvol_df = pd.DataFrame(meanvol).reset_index()\n",
    "# Preview DataFrame\n",
    "meanvol_df.head()"
   ]
  },
  {
   "cell_type": "code",
   "execution_count": 4,
   "metadata": {},
   "outputs": [
    {
     "output_type": "execute_result",
     "data": {
      "text/plain": "         Drug  Timepoint  Tumor Volume (mm3)\n0   Capomulin          0            0.000000\n1   Capomulin          5            0.448593\n2   Capomulin         10            0.702684\n3   Capomulin         15            0.838617\n4   Capomulin         20            0.909731\n..        ...        ...                 ...\n95  Zoniferol         25            0.602513\n96  Zoniferol         30            0.800043\n97  Zoniferol         35            0.881426\n98  Zoniferol         40            0.998515\n99  Zoniferol         45            1.003576\n\n[100 rows x 3 columns]",
      "text/html": "<div>\n<style scoped>\n    .dataframe tbody tr th:only-of-type {\n        vertical-align: middle;\n    }\n\n    .dataframe tbody tr th {\n        vertical-align: top;\n    }\n\n    .dataframe thead th {\n        text-align: right;\n    }\n</style>\n<table border=\"1\" class=\"dataframe\">\n  <thead>\n    <tr style=\"text-align: right;\">\n      <th></th>\n      <th>Drug</th>\n      <th>Timepoint</th>\n      <th>Tumor Volume (mm3)</th>\n    </tr>\n  </thead>\n  <tbody>\n    <tr>\n      <td>0</td>\n      <td>Capomulin</td>\n      <td>0</td>\n      <td>0.000000</td>\n    </tr>\n    <tr>\n      <td>1</td>\n      <td>Capomulin</td>\n      <td>5</td>\n      <td>0.448593</td>\n    </tr>\n    <tr>\n      <td>2</td>\n      <td>Capomulin</td>\n      <td>10</td>\n      <td>0.702684</td>\n    </tr>\n    <tr>\n      <td>3</td>\n      <td>Capomulin</td>\n      <td>15</td>\n      <td>0.838617</td>\n    </tr>\n    <tr>\n      <td>4</td>\n      <td>Capomulin</td>\n      <td>20</td>\n      <td>0.909731</td>\n    </tr>\n    <tr>\n      <td>...</td>\n      <td>...</td>\n      <td>...</td>\n      <td>...</td>\n    </tr>\n    <tr>\n      <td>95</td>\n      <td>Zoniferol</td>\n      <td>25</td>\n      <td>0.602513</td>\n    </tr>\n    <tr>\n      <td>96</td>\n      <td>Zoniferol</td>\n      <td>30</td>\n      <td>0.800043</td>\n    </tr>\n    <tr>\n      <td>97</td>\n      <td>Zoniferol</td>\n      <td>35</td>\n      <td>0.881426</td>\n    </tr>\n    <tr>\n      <td>98</td>\n      <td>Zoniferol</td>\n      <td>40</td>\n      <td>0.998515</td>\n    </tr>\n    <tr>\n      <td>99</td>\n      <td>Zoniferol</td>\n      <td>45</td>\n      <td>1.003576</td>\n    </tr>\n  </tbody>\n</table>\n<p>100 rows × 3 columns</p>\n</div>"
     },
     "metadata": {},
     "execution_count": 4
    }
   ],
   "source": [
    "# Store the Standard Error of Tumor Volumes Grouped by Drug and Timepoint\n",
    "standard_error = df.groupby(by = ['Drug', 'Timepoint'])['Tumor Volume (mm3)'].sem()\n",
    "# Convert to DataFrame\n",
    "se_df = pd.DataFrame(standard_error).reset_index()\n",
    "# Preview DataFrame\n",
    "se_df\n"
   ]
  },
  {
   "cell_type": "code",
   "execution_count": null,
   "metadata": {},
   "outputs": [],
   "source": []
  },
  {
   "cell_type": "code",
   "execution_count": 17,
   "metadata": {},
   "outputs": [
    {
     "output_type": "execute_result",
     "data": {
      "text/plain": "     Tumor Volume (mm3)                                              \\\nDrug          Capomulin   Ceftamin  Infubinol   Ketapril   Naftisol   \n0             45.000000  45.000000  45.000000  45.000000  45.000000   \n1             44.266086  46.503051  47.062001  47.389175  46.796098   \n2             43.084291  48.285125  49.403909  49.582269  48.694210   \n3             42.064317  50.094055  51.296397  52.399974  50.933018   \n4             40.716325  52.157049  53.197691  54.920935  53.644087   \n\n                                                             \nDrug    Placebo   Propriva   Ramicane   Stelasyn  Zoniferol  \n0     45.000000  45.000000  45.000000  45.000000  45.000000  \n1     47.125589  47.248967  43.944859  47.527452  46.851818  \n2     49.423329  49.101541  42.531957  49.463844  48.689881  \n3     51.359742  51.067318  41.495061  51.529409  50.779059  \n4     54.364417  53.346737  40.238325  54.067395  53.170334  ",
      "text/html": "<div>\n<style scoped>\n    .dataframe tbody tr th:only-of-type {\n        vertical-align: middle;\n    }\n\n    .dataframe tbody tr th {\n        vertical-align: top;\n    }\n\n    .dataframe thead tr th {\n        text-align: left;\n    }\n</style>\n<table border=\"1\" class=\"dataframe\">\n  <thead>\n    <tr>\n      <th></th>\n      <th colspan=\"10\" halign=\"left\">Tumor Volume (mm3)</th>\n    </tr>\n    <tr>\n      <th>Drug</th>\n      <th>Capomulin</th>\n      <th>Ceftamin</th>\n      <th>Infubinol</th>\n      <th>Ketapril</th>\n      <th>Naftisol</th>\n      <th>Placebo</th>\n      <th>Propriva</th>\n      <th>Ramicane</th>\n      <th>Stelasyn</th>\n      <th>Zoniferol</th>\n    </tr>\n  </thead>\n  <tbody>\n    <tr>\n      <td>0</td>\n      <td>45.000000</td>\n      <td>45.000000</td>\n      <td>45.000000</td>\n      <td>45.000000</td>\n      <td>45.000000</td>\n      <td>45.000000</td>\n      <td>45.000000</td>\n      <td>45.000000</td>\n      <td>45.000000</td>\n      <td>45.000000</td>\n    </tr>\n    <tr>\n      <td>1</td>\n      <td>44.266086</td>\n      <td>46.503051</td>\n      <td>47.062001</td>\n      <td>47.389175</td>\n      <td>46.796098</td>\n      <td>47.125589</td>\n      <td>47.248967</td>\n      <td>43.944859</td>\n      <td>47.527452</td>\n      <td>46.851818</td>\n    </tr>\n    <tr>\n      <td>2</td>\n      <td>43.084291</td>\n      <td>48.285125</td>\n      <td>49.403909</td>\n      <td>49.582269</td>\n      <td>48.694210</td>\n      <td>49.423329</td>\n      <td>49.101541</td>\n      <td>42.531957</td>\n      <td>49.463844</td>\n      <td>48.689881</td>\n    </tr>\n    <tr>\n      <td>3</td>\n      <td>42.064317</td>\n      <td>50.094055</td>\n      <td>51.296397</td>\n      <td>52.399974</td>\n      <td>50.933018</td>\n      <td>51.359742</td>\n      <td>51.067318</td>\n      <td>41.495061</td>\n      <td>51.529409</td>\n      <td>50.779059</td>\n    </tr>\n    <tr>\n      <td>4</td>\n      <td>40.716325</td>\n      <td>52.157049</td>\n      <td>53.197691</td>\n      <td>54.920935</td>\n      <td>53.644087</td>\n      <td>54.364417</td>\n      <td>53.346737</td>\n      <td>40.238325</td>\n      <td>54.067395</td>\n      <td>53.170334</td>\n    </tr>\n  </tbody>\n</table>\n</div>"
     },
     "metadata": {},
     "execution_count": 17
    }
   ],
   "source": [
    "# Minor Data Munging to Re-Format the Data Frames\n",
    "mean_pivot = meanvol_df.pivot_table(columns = 'Drug',index='Timepoint', dropna = True).reset_index(drop=True)\n",
    "se_pivot = se_df.pivot_table(columns = 'Drug', index ='Timepoint', dropna = True).reset_index(drop = True)\n",
    "# Preview that Reformatting worked\n",
    "#mean_pivot.head()\n",
    "#e_pivot.head()"
   ]
  },
  {
   "cell_type": "code",
   "execution_count": 6,
   "metadata": {
    "scrolled": true
   },
   "outputs": [
    {
     "data": {
      "text/plain": [
       "Index(['Drug', 'Timepoint', 'Tumor Volume (mm3)'], dtype='object')"
      ]
     },
     "execution_count": 6,
     "metadata": {},
     "output_type": "execute_result"
    }
   ],
   "source": [
    "se_df.columns"
   ]
  },
  {
   "cell_type": "code",
   "execution_count": 24,
   "metadata": {},
   "outputs": [
    {
     "output_type": "display_data",
     "data": {
      "text/plain": "Canvas(toolbar=Toolbar(toolitems=[('Home', 'Reset original view', 'home', 'home'), ('Back', 'Back to  previous…",
      "application/vnd.jupyter.widget-view+json": {
       "version_major": 2,
       "version_minor": 0,
       "model_id": "0e2f32bf6c7a412e8e57148733764a01"
      }
     },
     "metadata": {}
    }
   ],
   "source": [
    "# Generate the Plot (with Error Bars)\n",
    "tumor_chart = mean_pivot.plot(yerr=se_pivot)\n",
    "# Save the Figure\n",
    "plt.savefig('./treatment.png')\n"
   ]
  },
  {
   "cell_type": "code",
   "execution_count": 25,
   "metadata": {},
   "outputs": [],
   "source": [
    "# Show the Figure\n",
    "plt.show()"
   ]
  },
  {
   "cell_type": "markdown",
   "metadata": {},
   "source": [
    "![Tumor Response to Treatment](../Images/treatment.png)"
   ]
  },
  {
   "cell_type": "markdown",
   "metadata": {},
   "source": [
    "## Metastatic Response to Treatment"
   ]
  },
  {
   "cell_type": "code",
   "execution_count": 35,
   "metadata": {},
   "outputs": [
    {
     "output_type": "execute_result",
     "data": {
      "text/plain": "                     Metastatic Sites\nDrug      Timepoint                  \nCapomulin 0                  0.000000\n          5                  0.160000\n          10                 0.320000\n          15                 0.375000\n          20                 0.652174",
      "text/html": "<div>\n<style scoped>\n    .dataframe tbody tr th:only-of-type {\n        vertical-align: middle;\n    }\n\n    .dataframe tbody tr th {\n        vertical-align: top;\n    }\n\n    .dataframe thead th {\n        text-align: right;\n    }\n</style>\n<table border=\"1\" class=\"dataframe\">\n  <thead>\n    <tr style=\"text-align: right;\">\n      <th></th>\n      <th></th>\n      <th>Metastatic Sites</th>\n    </tr>\n    <tr>\n      <th>Drug</th>\n      <th>Timepoint</th>\n      <th></th>\n    </tr>\n  </thead>\n  <tbody>\n    <tr>\n      <td rowspan=\"5\" valign=\"top\">Capomulin</td>\n      <td>0</td>\n      <td>0.000000</td>\n    </tr>\n    <tr>\n      <td>5</td>\n      <td>0.160000</td>\n    </tr>\n    <tr>\n      <td>10</td>\n      <td>0.320000</td>\n    </tr>\n    <tr>\n      <td>15</td>\n      <td>0.375000</td>\n    </tr>\n    <tr>\n      <td>20</td>\n      <td>0.652174</td>\n    </tr>\n  </tbody>\n</table>\n</div>"
     },
     "metadata": {},
     "execution_count": 35
    }
   ],
   "source": [
    "# Store the Mean Met. Site Data Grouped by Drug and Timepoint \n",
    "meanmeta = df.groupby(by = [\"Drug\", \"Timepoint\"])[\"Metastatic Sites\"].mean()\n",
    "# Convert to DataFrame\n",
    "meanmeta_df = pd.DataFrame(meanmeta)\n",
    "# Preview DataFrame\n",
    "meanmeta_df.head()"
   ]
  },
  {
   "cell_type": "code",
   "execution_count": 6,
   "metadata": {},
   "outputs": [
    {
     "data": {
      "text/html": [
       "<div>\n",
       "<style scoped>\n",
       "    .dataframe tbody tr th:only-of-type {\n",
       "        vertical-align: middle;\n",
       "    }\n",
       "\n",
       "    .dataframe tbody tr th {\n",
       "        vertical-align: top;\n",
       "    }\n",
       "\n",
       "    .dataframe thead th {\n",
       "        text-align: right;\n",
       "    }\n",
       "</style>\n",
       "<table border=\"1\" class=\"dataframe\">\n",
       "  <thead>\n",
       "    <tr style=\"text-align: right;\">\n",
       "      <th></th>\n",
       "      <th></th>\n",
       "      <th>Metastatic Sites</th>\n",
       "    </tr>\n",
       "    <tr>\n",
       "      <th>Drug</th>\n",
       "      <th>Timepoint</th>\n",
       "      <th></th>\n",
       "    </tr>\n",
       "  </thead>\n",
       "  <tbody>\n",
       "    <tr>\n",
       "      <th rowspan=\"5\" valign=\"top\">Capomulin</th>\n",
       "      <th>0</th>\n",
       "      <td>0.000000</td>\n",
       "    </tr>\n",
       "    <tr>\n",
       "      <th>5</th>\n",
       "      <td>0.160000</td>\n",
       "    </tr>\n",
       "    <tr>\n",
       "      <th>10</th>\n",
       "      <td>0.320000</td>\n",
       "    </tr>\n",
       "    <tr>\n",
       "      <th>15</th>\n",
       "      <td>0.375000</td>\n",
       "    </tr>\n",
       "    <tr>\n",
       "      <th>20</th>\n",
       "      <td>0.652174</td>\n",
       "    </tr>\n",
       "  </tbody>\n",
       "</table>\n",
       "</div>"
      ],
      "text/plain": [
       "                     Metastatic Sites\n",
       "Drug      Timepoint                  \n",
       "Capomulin 0                  0.000000\n",
       "          5                  0.160000\n",
       "          10                 0.320000\n",
       "          15                 0.375000\n",
       "          20                 0.652174"
      ]
     },
     "execution_count": 6,
     "metadata": {},
     "output_type": "execute_result"
    }
   ],
   "source": []
  },
  {
   "cell_type": "code",
   "execution_count": 39,
   "metadata": {},
   "outputs": [
    {
     "output_type": "execute_result",
     "data": {
      "text/plain": "                     Metastatic Sites\nDrug      Timepoint                  \nCapomulin 0                  0.000000\n          5                  0.074833\n          10                 0.125433\n          15                 0.132048\n          20                 0.161621",
      "text/html": "<div>\n<style scoped>\n    .dataframe tbody tr th:only-of-type {\n        vertical-align: middle;\n    }\n\n    .dataframe tbody tr th {\n        vertical-align: top;\n    }\n\n    .dataframe thead th {\n        text-align: right;\n    }\n</style>\n<table border=\"1\" class=\"dataframe\">\n  <thead>\n    <tr style=\"text-align: right;\">\n      <th></th>\n      <th></th>\n      <th>Metastatic Sites</th>\n    </tr>\n    <tr>\n      <th>Drug</th>\n      <th>Timepoint</th>\n      <th></th>\n    </tr>\n  </thead>\n  <tbody>\n    <tr>\n      <td rowspan=\"5\" valign=\"top\">Capomulin</td>\n      <td>0</td>\n      <td>0.000000</td>\n    </tr>\n    <tr>\n      <td>5</td>\n      <td>0.074833</td>\n    </tr>\n    <tr>\n      <td>10</td>\n      <td>0.125433</td>\n    </tr>\n    <tr>\n      <td>15</td>\n      <td>0.132048</td>\n    </tr>\n    <tr>\n      <td>20</td>\n      <td>0.161621</td>\n    </tr>\n  </tbody>\n</table>\n</div>"
     },
     "metadata": {},
     "execution_count": 39
    }
   ],
   "source": [
    "# Store the Standard Error associated with Met. Sites Grouped by Drug and Timepoint \n",
    "semmeta = df.groupby(by = [\"Drug\", \"Timepoint\"])[\"Metastatic Sites\"].sem()\n",
    "# Convert to DataFrame\n",
    "semmeta_df = pd.DataFrame(semeta)\n",
    "# Preview DataFrame\n",
    "semmeta_df.head()"
   ]
  },
  {
   "cell_type": "code",
   "execution_count": 40,
   "metadata": {},
   "outputs": [],
   "source": []
  },
  {
   "cell_type": "code",
   "execution_count": 45,
   "metadata": {},
   "outputs": [
    {
     "output_type": "execute_result",
     "data": {
      "text/plain": "     Metastatic Sites                                                    \\\nDrug        Capomulin  Ceftamin Infubinol  Ketapril  Naftisol   Placebo   \n0            0.000000  0.000000  0.000000  0.000000  0.000000  0.000000   \n1            0.074833  0.108588  0.091652  0.098100  0.093618  0.100947   \n2            0.125433  0.152177  0.159364  0.142018  0.163577  0.115261   \n3            0.132048  0.180625  0.194015  0.191381  0.158651  0.190221   \n4            0.161621  0.241034  0.234801  0.236680  0.181731  0.234064   \n\n                                              \nDrug  Propriva  Ramicane  Stelasyn Zoniferol  \n0     0.000000  0.000000  0.000000  0.000000  \n1     0.095219  0.066332  0.087178  0.077709  \n2     0.105690  0.090289  0.123672  0.109109  \n3     0.136377  0.115261  0.153439  0.111677  \n4     0.171499  0.119430  0.200905  0.166378  ",
      "text/html": "<div>\n<style scoped>\n    .dataframe tbody tr th:only-of-type {\n        vertical-align: middle;\n    }\n\n    .dataframe tbody tr th {\n        vertical-align: top;\n    }\n\n    .dataframe thead tr th {\n        text-align: left;\n    }\n</style>\n<table border=\"1\" class=\"dataframe\">\n  <thead>\n    <tr>\n      <th></th>\n      <th colspan=\"10\" halign=\"left\">Metastatic Sites</th>\n    </tr>\n    <tr>\n      <th>Drug</th>\n      <th>Capomulin</th>\n      <th>Ceftamin</th>\n      <th>Infubinol</th>\n      <th>Ketapril</th>\n      <th>Naftisol</th>\n      <th>Placebo</th>\n      <th>Propriva</th>\n      <th>Ramicane</th>\n      <th>Stelasyn</th>\n      <th>Zoniferol</th>\n    </tr>\n  </thead>\n  <tbody>\n    <tr>\n      <td>0</td>\n      <td>0.000000</td>\n      <td>0.000000</td>\n      <td>0.000000</td>\n      <td>0.000000</td>\n      <td>0.000000</td>\n      <td>0.000000</td>\n      <td>0.000000</td>\n      <td>0.000000</td>\n      <td>0.000000</td>\n      <td>0.000000</td>\n    </tr>\n    <tr>\n      <td>1</td>\n      <td>0.074833</td>\n      <td>0.108588</td>\n      <td>0.091652</td>\n      <td>0.098100</td>\n      <td>0.093618</td>\n      <td>0.100947</td>\n      <td>0.095219</td>\n      <td>0.066332</td>\n      <td>0.087178</td>\n      <td>0.077709</td>\n    </tr>\n    <tr>\n      <td>2</td>\n      <td>0.125433</td>\n      <td>0.152177</td>\n      <td>0.159364</td>\n      <td>0.142018</td>\n      <td>0.163577</td>\n      <td>0.115261</td>\n      <td>0.105690</td>\n      <td>0.090289</td>\n      <td>0.123672</td>\n      <td>0.109109</td>\n    </tr>\n    <tr>\n      <td>3</td>\n      <td>0.132048</td>\n      <td>0.180625</td>\n      <td>0.194015</td>\n      <td>0.191381</td>\n      <td>0.158651</td>\n      <td>0.190221</td>\n      <td>0.136377</td>\n      <td>0.115261</td>\n      <td>0.153439</td>\n      <td>0.111677</td>\n    </tr>\n    <tr>\n      <td>4</td>\n      <td>0.161621</td>\n      <td>0.241034</td>\n      <td>0.234801</td>\n      <td>0.236680</td>\n      <td>0.181731</td>\n      <td>0.234064</td>\n      <td>0.171499</td>\n      <td>0.119430</td>\n      <td>0.200905</td>\n      <td>0.166378</td>\n    </tr>\n  </tbody>\n</table>\n</div>"
     },
     "metadata": {},
     "execution_count": 45
    }
   ],
   "source": [
    "# Minor Data Munging to Re-Format the Data Frames\n",
    "meanmeta_pivot = meanmeta_df.pivot_table(columns = 'Drug',index='Timepoint', dropna = True).reset_index(drop=True)\n",
    "semmeta_pivot = semmeta_df.pivot_table(columns = 'Drug', index ='Timepoint', dropna = True).reset_index(drop = True)\n",
    "# Preview that Reformatting worked\n",
    "#meanmeta_pivot.head()\n",
    "semmeta_pivot.head()"
   ]
  },
  {
   "cell_type": "code",
   "execution_count": 8,
   "metadata": {
    "scrolled": true
   },
   "outputs": [
    {
     "data": {
      "text/html": [
       "<div>\n",
       "<style scoped>\n",
       "    .dataframe tbody tr th:only-of-type {\n",
       "        vertical-align: middle;\n",
       "    }\n",
       "\n",
       "    .dataframe tbody tr th {\n",
       "        vertical-align: top;\n",
       "    }\n",
       "\n",
       "    .dataframe thead th {\n",
       "        text-align: right;\n",
       "    }\n",
       "</style>\n",
       "<table border=\"1\" class=\"dataframe\">\n",
       "  <thead>\n",
       "    <tr style=\"text-align: right;\">\n",
       "      <th>Drug</th>\n",
       "      <th>Capomulin</th>\n",
       "      <th>Ceftamin</th>\n",
       "      <th>Infubinol</th>\n",
       "      <th>Ketapril</th>\n",
       "      <th>Naftisol</th>\n",
       "      <th>Placebo</th>\n",
       "      <th>Propriva</th>\n",
       "      <th>Ramicane</th>\n",
       "      <th>Stelasyn</th>\n",
       "      <th>Zoniferol</th>\n",
       "    </tr>\n",
       "    <tr>\n",
       "      <th>Timepoint</th>\n",
       "      <th></th>\n",
       "      <th></th>\n",
       "      <th></th>\n",
       "      <th></th>\n",
       "      <th></th>\n",
       "      <th></th>\n",
       "      <th></th>\n",
       "      <th></th>\n",
       "      <th></th>\n",
       "      <th></th>\n",
       "    </tr>\n",
       "  </thead>\n",
       "  <tbody>\n",
       "    <tr>\n",
       "      <th>0</th>\n",
       "      <td>45.000000</td>\n",
       "      <td>45.000000</td>\n",
       "      <td>45.000000</td>\n",
       "      <td>45.000000</td>\n",
       "      <td>45.000000</td>\n",
       "      <td>45.000000</td>\n",
       "      <td>45.000000</td>\n",
       "      <td>45.000000</td>\n",
       "      <td>45.000000</td>\n",
       "      <td>45.000000</td>\n",
       "    </tr>\n",
       "    <tr>\n",
       "      <th>5</th>\n",
       "      <td>44.266086</td>\n",
       "      <td>46.503051</td>\n",
       "      <td>47.062001</td>\n",
       "      <td>47.389175</td>\n",
       "      <td>46.796098</td>\n",
       "      <td>47.125589</td>\n",
       "      <td>47.248967</td>\n",
       "      <td>43.944859</td>\n",
       "      <td>47.527452</td>\n",
       "      <td>46.851818</td>\n",
       "    </tr>\n",
       "    <tr>\n",
       "      <th>10</th>\n",
       "      <td>43.084291</td>\n",
       "      <td>48.285125</td>\n",
       "      <td>49.403909</td>\n",
       "      <td>49.582269</td>\n",
       "      <td>48.694210</td>\n",
       "      <td>49.423329</td>\n",
       "      <td>49.101541</td>\n",
       "      <td>42.531957</td>\n",
       "      <td>49.463844</td>\n",
       "      <td>48.689881</td>\n",
       "    </tr>\n",
       "    <tr>\n",
       "      <th>15</th>\n",
       "      <td>42.064317</td>\n",
       "      <td>50.094055</td>\n",
       "      <td>51.296397</td>\n",
       "      <td>52.399974</td>\n",
       "      <td>50.933018</td>\n",
       "      <td>51.359742</td>\n",
       "      <td>51.067318</td>\n",
       "      <td>41.495061</td>\n",
       "      <td>51.529409</td>\n",
       "      <td>50.779059</td>\n",
       "    </tr>\n",
       "    <tr>\n",
       "      <th>20</th>\n",
       "      <td>40.716325</td>\n",
       "      <td>52.157049</td>\n",
       "      <td>53.197691</td>\n",
       "      <td>54.920935</td>\n",
       "      <td>53.644087</td>\n",
       "      <td>54.364417</td>\n",
       "      <td>53.346737</td>\n",
       "      <td>40.238325</td>\n",
       "      <td>54.067395</td>\n",
       "      <td>53.170334</td>\n",
       "    </tr>\n",
       "  </tbody>\n",
       "</table>\n",
       "</div>"
      ],
      "text/plain": [
       "Drug       Capomulin   Ceftamin  Infubinol   Ketapril   Naftisol    Placebo  \\\n",
       "Timepoint                                                                     \n",
       "0          45.000000  45.000000  45.000000  45.000000  45.000000  45.000000   \n",
       "5          44.266086  46.503051  47.062001  47.389175  46.796098  47.125589   \n",
       "10         43.084291  48.285125  49.403909  49.582269  48.694210  49.423329   \n",
       "15         42.064317  50.094055  51.296397  52.399974  50.933018  51.359742   \n",
       "20         40.716325  52.157049  53.197691  54.920935  53.644087  54.364417   \n",
       "\n",
       "Drug        Propriva   Ramicane   Stelasyn  Zoniferol  \n",
       "Timepoint                                              \n",
       "0          45.000000  45.000000  45.000000  45.000000  \n",
       "5          47.248967  43.944859  47.527452  46.851818  \n",
       "10         49.101541  42.531957  49.463844  48.689881  \n",
       "15         51.067318  41.495061  51.529409  50.779059  \n",
       "20         53.346737  40.238325  54.067395  53.170334  "
      ]
     },
     "execution_count": 8,
     "metadata": {},
     "output_type": "execute_result"
    }
   ],
   "source": []
  },
  {
   "cell_type": "code",
   "execution_count": 48,
   "metadata": {},
   "outputs": [
    {
     "output_type": "display_data",
     "data": {
      "text/plain": "Canvas(toolbar=Toolbar(toolitems=[('Home', 'Reset original view', 'home', 'home'), ('Back', 'Back to  previous…",
      "application/vnd.jupyter.widget-view+json": {
       "version_major": 2,
       "version_minor": 0,
       "model_id": "82111a4f7a9748aab004328473173821"
      }
     },
     "metadata": {}
    }
   ],
   "source": [
    "# Generate the Plot (with Error Bars)\n",
    "meanmeta_pivot.plot(yerr=semmeta_pivot)\n",
    "# Save the Figure\n",
    "plt.savefig('./spread.png')\n",
    "# Show the Figure\n"
   ]
  },
  {
   "cell_type": "markdown",
   "metadata": {},
   "source": [
    "![Metastatic Spread During Treatment](../Images/spread.png)"
   ]
  },
  {
   "cell_type": "markdown",
   "metadata": {},
   "source": [
    "## Survival Rates"
   ]
  },
  {
   "cell_type": "code",
   "execution_count": 51,
   "metadata": {},
   "outputs": [
    {
     "output_type": "execute_result",
     "data": {
      "text/plain": "                     Mouse ID\nDrug      Timepoint          \nCapomulin 0                25\n          5                25\n          10               25\n          15               24\n          20               23",
      "text/html": "<div>\n<style scoped>\n    .dataframe tbody tr th:only-of-type {\n        vertical-align: middle;\n    }\n\n    .dataframe tbody tr th {\n        vertical-align: top;\n    }\n\n    .dataframe thead th {\n        text-align: right;\n    }\n</style>\n<table border=\"1\" class=\"dataframe\">\n  <thead>\n    <tr style=\"text-align: right;\">\n      <th></th>\n      <th></th>\n      <th>Mouse ID</th>\n    </tr>\n    <tr>\n      <th>Drug</th>\n      <th>Timepoint</th>\n      <th></th>\n    </tr>\n  </thead>\n  <tbody>\n    <tr>\n      <td rowspan=\"5\" valign=\"top\">Capomulin</td>\n      <td>0</td>\n      <td>25</td>\n    </tr>\n    <tr>\n      <td>5</td>\n      <td>25</td>\n    </tr>\n    <tr>\n      <td>10</td>\n      <td>25</td>\n    </tr>\n    <tr>\n      <td>15</td>\n      <td>24</td>\n    </tr>\n    <tr>\n      <td>20</td>\n      <td>23</td>\n    </tr>\n  </tbody>\n</table>\n</div>"
     },
     "metadata": {},
     "execution_count": 51
    }
   ],
   "source": [
    "# Store the Count of Mice Grouped by Drug and Timepoint (W can pass any metric)\n",
    "ct = df.groupby(['Drug', 'Timepoint'])['Mouse ID'].count()\n",
    "# Convert to DataFrame\n",
    "ct_df = pd.DataFrame(ct)\n",
    "# Preview DataFrame\n",
    "ct_df.head()"
   ]
  },
  {
   "cell_type": "code",
   "execution_count": 52,
   "metadata": {},
   "outputs": [
    {
     "output_type": "execute_result",
     "data": {
      "text/plain": "      Mouse ID                                                                 \\\nDrug Capomulin Ceftamin Infubinol Ketapril Naftisol Placebo Propriva Ramicane   \n0           25       25        25       25       25      25       26       25   \n1           25       21        25       23       23      24       25       25   \n2           25       20        21       22       21      24       23       24   \n3           24       19        21       19       21      20       17       24   \n4           23       18        20       19       20      19       17       23   \n\n                         \nDrug Stelasyn Zoniferol  \n0          26        25  \n1          25        24  \n2          23        22  \n3          23        21  \n4          21        17  ",
      "text/html": "<div>\n<style scoped>\n    .dataframe tbody tr th:only-of-type {\n        vertical-align: middle;\n    }\n\n    .dataframe tbody tr th {\n        vertical-align: top;\n    }\n\n    .dataframe thead tr th {\n        text-align: left;\n    }\n</style>\n<table border=\"1\" class=\"dataframe\">\n  <thead>\n    <tr>\n      <th></th>\n      <th colspan=\"10\" halign=\"left\">Mouse ID</th>\n    </tr>\n    <tr>\n      <th>Drug</th>\n      <th>Capomulin</th>\n      <th>Ceftamin</th>\n      <th>Infubinol</th>\n      <th>Ketapril</th>\n      <th>Naftisol</th>\n      <th>Placebo</th>\n      <th>Propriva</th>\n      <th>Ramicane</th>\n      <th>Stelasyn</th>\n      <th>Zoniferol</th>\n    </tr>\n  </thead>\n  <tbody>\n    <tr>\n      <td>0</td>\n      <td>25</td>\n      <td>25</td>\n      <td>25</td>\n      <td>25</td>\n      <td>25</td>\n      <td>25</td>\n      <td>26</td>\n      <td>25</td>\n      <td>26</td>\n      <td>25</td>\n    </tr>\n    <tr>\n      <td>1</td>\n      <td>25</td>\n      <td>21</td>\n      <td>25</td>\n      <td>23</td>\n      <td>23</td>\n      <td>24</td>\n      <td>25</td>\n      <td>25</td>\n      <td>25</td>\n      <td>24</td>\n    </tr>\n    <tr>\n      <td>2</td>\n      <td>25</td>\n      <td>20</td>\n      <td>21</td>\n      <td>22</td>\n      <td>21</td>\n      <td>24</td>\n      <td>23</td>\n      <td>24</td>\n      <td>23</td>\n      <td>22</td>\n    </tr>\n    <tr>\n      <td>3</td>\n      <td>24</td>\n      <td>19</td>\n      <td>21</td>\n      <td>19</td>\n      <td>21</td>\n      <td>20</td>\n      <td>17</td>\n      <td>24</td>\n      <td>23</td>\n      <td>21</td>\n    </tr>\n    <tr>\n      <td>4</td>\n      <td>23</td>\n      <td>18</td>\n      <td>20</td>\n      <td>19</td>\n      <td>20</td>\n      <td>19</td>\n      <td>17</td>\n      <td>23</td>\n      <td>21</td>\n      <td>17</td>\n    </tr>\n  </tbody>\n</table>\n</div>"
     },
     "metadata": {},
     "execution_count": 52
    }
   ],
   "source": [
    "# Minor Data Munging to Re-Format the Data Frames\n",
    "ct_pivot = ct_df.pivot_table(columns = 'Drug',index='Timepoint', dropna = True).reset_index(drop=True)\n",
    "# Preview the Data Frame\n",
    "ct_pivot.head()"
   ]
  },
  {
   "cell_type": "code",
   "execution_count": 53,
   "metadata": {},
   "outputs": [
    {
     "output_type": "display_data",
     "data": {
      "text/plain": "Canvas(toolbar=Toolbar(toolitems=[('Home', 'Reset original view', 'home', 'home'), ('Back', 'Back to  previous…",
      "application/vnd.jupyter.widget-view+json": {
       "version_major": 2,
       "version_minor": 0,
       "model_id": "d8494ff3f0f34095b9e41d000b79e222"
      }
     },
     "metadata": {}
    }
   ],
   "source": [
    "# Generate the Plot (Accounting for percentages)\n",
    "ct_pivot.plot()\n",
    "# Save the Figure\n",
    "\n",
    "# Show the Figure\n",
    "plt.show()"
   ]
  },
  {
   "cell_type": "markdown",
   "metadata": {},
   "source": [
    "![Metastatic Spread During Treatment](../Images/survival.png)"
   ]
  },
  {
   "cell_type": "markdown",
   "metadata": {},
   "source": [
    "## Summary Bar Graph"
   ]
  },
  {
   "cell_type": "code",
   "execution_count": null,
   "metadata": {},
   "outputs": [],
   "source": [
    "# Calculate the percent changes for each drug\n",
    "\n",
    "# Display the data to confirm\n"
   ]
  },
  {
   "cell_type": "code",
   "execution_count": 13,
   "metadata": {},
   "outputs": [
    {
     "data": {
      "text/plain": [
       "Drug\n",
       "Capomulin   -19.475303\n",
       "Ceftamin     42.516492\n",
       "Infubinol    46.123472\n",
       "Ketapril     57.028795\n",
       "Naftisol     53.923347\n",
       "Placebo      51.297960\n",
       "Propriva     47.241175\n",
       "Ramicane    -22.320900\n",
       "Stelasyn     52.085134\n",
       "Zoniferol    46.579751\n",
       "dtype: float64"
      ]
     },
     "execution_count": 13,
     "metadata": {},
     "output_type": "execute_result"
    }
   ],
   "source": []
  },
  {
   "cell_type": "code",
   "execution_count": null,
   "metadata": {},
   "outputs": [],
   "source": [
    "# Store all Relevant Percent Changes into a Tuple\n",
    "\n",
    "\n",
    "# Splice the data between passing and failing drugs\n",
    "\n",
    "\n",
    "# Orient widths. Add labels, tick marks, etc. \n",
    "\n",
    "\n",
    "# Use functions to label the percentages of changes\n",
    "\n",
    "\n",
    "# Call functions to implement the function calls\n",
    "\n",
    "\n",
    "# Save the Figure\n",
    "\n",
    "\n",
    "# Show the Figure\n",
    "fig.show()"
   ]
  },
  {
   "cell_type": "markdown",
   "metadata": {},
   "source": [
    "![Metastatic Spread During Treatment](../Images/change.png)"
   ]
  },
  {
   "cell_type": "code",
   "execution_count": null,
   "metadata": {},
   "outputs": [],
   "source": []
  }
 ],
 "metadata": {
  "anaconda-cloud": {},
  "kernelspec": {
   "display_name": "'Python Interactive'",
   "language": "python",
   "name": "15f108f3-5bc3-4783-89a4-11e07db949ed"
  },
  "language_info": {
   "codemirror_mode": {
    "name": "ipython",
    "version": 3
   },
   "file_extension": ".py",
   "mimetype": "text/x-python",
   "name": "python",
   "nbconvert_exporter": "python",
   "pygments_lexer": "ipython3",
   "version": "3.8.1-final"
  }
 },
 "nbformat": 4,
 "nbformat_minor": 4
}